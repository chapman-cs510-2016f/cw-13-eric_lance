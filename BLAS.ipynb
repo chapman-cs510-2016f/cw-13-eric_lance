{
 "cells": [
  {
   "cell_type": "markdown",
   "metadata": {
    "collapsed": false
   },
   "source": [
    "# Analysis of boost_matrix.cc\n",
    "\n",
    "This code begins by using the \"using\" keyword so that things that will be used often don't need the namespace before them (ie. can use \"cout\" instead of \"std::cout\"). The code then declares three 3x3 matrices whose elements are complex numbers with long double components. It then loops over both rows and collumns and sets each element of each matrix to some value. For \"m\" this is 3\\*(row number)+(col number), for \"n\" this is the complex number with the real component as the row number and imaginary component as the column numbers, and for \"o\" this is the square of the element in \"n\". Everything is then printed out so that the results can be seen. Compared to the code for the Stack and Queue, this code is very simple."
   ]
  },
  {
   "cell_type": "markdown",
   "metadata": {},
   "source": [
    "# < type >\n",
    "\n",
    "The < type > syntax used for templates allows something (eg. a function) to work for any data type by specifying the type when the thing is used. The compiler will go through and compile the object for the each type that was used in the code."
   ]
  },
  {
   "cell_type": "markdown",
   "metadata": {},
   "source": [
    "# BLAS matrices\n",
    "\n",
    "BLAS matrices are in row-major ordering. This is hinted at with the syntax myMatrix(row, col) and the fact that myMatrix.size1 gives the number of rows. The loops are set-up in such a way that each element is accessed in the order it is in memory, since the inner loop over columns stays within a row."
   ]
  },
  {
   "cell_type": "code",
   "execution_count": null,
   "metadata": {
    "collapsed": true
   },
   "outputs": [],
   "source": []
  }
 ],
 "metadata": {
  "kernelspec": {
   "display_name": "Python 2 (SageMath)",
   "language": "python",
   "name": "python2"
  },
  "language_info": {
   "codemirror_mode": {
    "name": "ipython",
    "version": 2
   },
   "file_extension": ".py",
   "mimetype": "text/x-python",
   "name": "python",
   "nbconvert_exporter": "python",
   "pygments_lexer": "ipython2",
   "version": "2.7.10"
  }
 },
 "nbformat": 4,
 "nbformat_minor": 0
}
