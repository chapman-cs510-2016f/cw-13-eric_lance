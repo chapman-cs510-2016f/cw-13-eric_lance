{
 "cells": [
  {
   "cell_type": "markdown",
   "metadata": {
    "collapsed": false
   },
   "source": [
    "# CW-13 C++:  Fun with Matrices and uBLAS\n",
    "## README Item #4\n",
    "## Lance Clifner, Eric Freda\n",
    "CS-510\n",
    "<br>November 29, 2016"
   ]
  },
  {
   "cell_type": "markdown",
   "metadata": {
    "collapsed": false
   },
   "source": [
    "# Matrix Class Template (i)\n",
    "The Matrix Class (matrix.cc and matrix.h) sets up a template class that can be used as a basis for making more sophisticated implementations of a basic matrix handler.\n",
    "\n",
    "The fundamental matrix is defined as being a vector of vectors to represent the rows and columns in the matrix.  The variable type contained in each cell of the matrix is generic and defined at the time the template class is 'defined'.\n",
    "\n",
    "The matrix class is set up to perform all of its own memory management, rather than using any automated/under-the-covers memory management.\n",
    "\n",
    "The remaining native methods are for accessing the cells in the matrix and for getting the dimensions of the matrix.\n",
    "\n",
    "The source file, matrix.cc, implements the constructor as well as the 'rule of 3' methods (copy constructor, destructor, and assignment). The constructor is responsible for allocating the needed memory for the matrix object, the destructor for cleaning up the object when we are done using it, and the assignment operator not only allocates memory for the copy of a matrix object, but also touches and copies every data element from the original matrix object into the new instance of the matrix object (a deep copy).  The Copy Assignment performs a shallow copy of the original object.\n",
    "\n",
    "The Accessor functions are handled, along with a method that is an overload of the addition operator (note that even operator overrides must have a method declaration for each overridden operator in matrix.h).  There are also two methods to handle reading and writing of the matrix cells.\n",
    "\n",
    "The addition operator traverses the two matrices and adds together the corresponding cells from the two matrics together.  The results of the additions are stored in a new matrix, which is returned to the caller.  The assumption made by this method is that the two matrices being added are of the same dimensions."
   ]
  },
  {
   "cell_type": "markdown",
   "metadata": {
    "collapsed": false
   },
   "source": [
    "# Template Classes in C++ (ii)\n",
    "Template Classes in C++ allow you to set up a Class \"structure\" that has an unknown type.  The programmer can then use the template class to create an object of any data type simply by declaring a variable using the template class and specifying the data type to be used.\n",
    "\n",
    "In C, you cannot do this as each data type must be explicitly defined and there is no provision for a generic data type that can be replaced with explicit types at compile time."
   ]
  },
  {
   "cell_type": "markdown",
   "metadata": {
    "collapsed": false
   },
   "source": [
    "# Operator Overloading (iii)\n",
    "Operator Overloading is where a class replaces standard operations for variables/classes with a class-specific implementation.  Thus, if a class is defined that must perform an standard operation such as addition in a non-standard way (for whatever reason), the class definition can replace the standard addition with its own unique implementation.\n",
    "\n",
    "As a trivial example of a unique implementation, if we have the Class Bazinga, which requires that when two Bazinga objects are added together, a one must also be added.  So, instead of:\n",
    "<br>`c = a + b`\n",
    "<br>we override addition to be:\n",
    "<br>`c = a + b + 1`\n",
    "\n",
    "In the Matrix class these operators are overridden:\n",
    "- Assignment\n",
    "- Addition\n",
    "- Reading and Writing of array elements"
   ]
  }
 ],
 "metadata": {
  "kernelspec": {
   "display_name": "Python 2 (SageMath)",
   "language": "python",
   "name": "python2"
  },
  "language_info": {
   "codemirror_mode": {
    "name": "ipython",
    "version": 2
   },
   "file_extension": ".py",
   "mimetype": "text/x-python",
   "name": "python",
   "nbconvert_exporter": "python",
   "pygments_lexer": "ipython2",
   "version": "2.7.10"
  }
 },
 "nbformat": 4,
 "nbformat_minor": 0
}
